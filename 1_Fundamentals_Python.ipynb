{
  "nbformat": 4,
  "nbformat_minor": 0,
  "metadata": {
    "colab": {
      "provenance": []
    },
    "kernelspec": {
      "name": "python3",
      "display_name": "Python 3"
    },
    "language_info": {
      "name": "python"
    }
  },
  "cells": [
    {
      "cell_type": "code",
      "source": [
        "#вывод текста на экран\n",
        "print('Привет мир')"
      ],
      "metadata": {
        "colab": {
          "base_uri": "https://localhost:8080/"
        },
        "id": "Km9PxsBTYYSA",
        "outputId": "631c14ea-c93c-42a7-c4df-04144520115f"
      },
      "execution_count": 85,
      "outputs": [
        {
          "output_type": "stream",
          "name": "stdout",
          "text": [
            "Привет мир\n"
          ]
        }
      ]
    },
    {
      "cell_type": "markdown",
      "source": [
        "# Целые, вещественные и комплексные числа; Строки"
      ],
      "metadata": {
        "id": "xdXtf2AbP9oE"
      }
    },
    {
      "cell_type": "code",
      "source": [
        "#операция присваивания\n",
        "#assignment operation\n",
        "x=5\n",
        "#Вывод информации в консоль\n",
        "#Print the value of x\n",
        "print(x)"
      ],
      "metadata": {
        "colab": {
          "base_uri": "https://localhost:8080/"
        },
        "id": "IxVX4W4DJJxk",
        "outputId": "5be8bb50-bc5e-4e78-933f-bf6575752668"
      },
      "execution_count": 86,
      "outputs": [
        {
          "output_type": "stream",
          "name": "stdout",
          "text": [
            "5\n"
          ]
        }
      ]
    },
    {
      "cell_type": "code",
      "source": [
        "# тип integer - целое число\n",
        "type(x)"
      ],
      "metadata": {
        "colab": {
          "base_uri": "https://localhost:8080/"
        },
        "id": "EIcpTSDeIgpL",
        "outputId": "faed4c3b-5d5d-4125-e41a-c295b3641db0"
      },
      "execution_count": 87,
      "outputs": [
        {
          "output_type": "execute_result",
          "data": {
            "text/plain": [
              "int"
            ]
          },
          "metadata": {},
          "execution_count": 87
        }
      ]
    },
    {
      "cell_type": "code",
      "source": [
        "# тип str - строка (текст)/string\n",
        "x='Hello'\n",
        "type(x)"
      ],
      "metadata": {
        "colab": {
          "base_uri": "https://localhost:8080/"
        },
        "id": "YP5kaIwWIoUp",
        "outputId": "eaffe4dc-42bb-4a57-f2fb-e34898bd4ef2"
      },
      "execution_count": 88,
      "outputs": [
        {
          "output_type": "execute_result",
          "data": {
            "text/plain": [
              "str"
            ]
          },
          "metadata": {},
          "execution_count": 88
        }
      ]
    },
    {
      "cell_type": "code",
      "source": [
        "# тип complex - комплексное число/complex number\n",
        "x=5+7j\n",
        "print(x)\n",
        "type(x)"
      ],
      "metadata": {
        "colab": {
          "base_uri": "https://localhost:8080/"
        },
        "id": "w1kfFD_FIpkA",
        "outputId": "82d318f9-c583-4a75-d720-f94092a2ca48"
      },
      "execution_count": 89,
      "outputs": [
        {
          "output_type": "stream",
          "name": "stdout",
          "text": [
            "(5+7j)\n"
          ]
        },
        {
          "output_type": "execute_result",
          "data": {
            "text/plain": [
              "complex"
            ]
          },
          "metadata": {},
          "execution_count": 89
        }
      ]
    },
    {
      "cell_type": "code",
      "source": [
        "#тип float - число с плавающей запятой, рациональное число\n",
        "x = 11.3\n",
        "type(x)"
      ],
      "metadata": {
        "colab": {
          "base_uri": "https://localhost:8080/"
        },
        "id": "rpiVnSC2IiiI",
        "outputId": "a33dd3b8-6200-433d-a666-82e3d4d1bdd8"
      },
      "execution_count": 90,
      "outputs": [
        {
          "output_type": "execute_result",
          "data": {
            "text/plain": [
              "float"
            ]
          },
          "metadata": {},
          "execution_count": 90
        }
      ]
    },
    {
      "cell_type": "code",
      "source": [
        "#операция деления / division\n",
        "print (x/2)"
      ],
      "metadata": {
        "colab": {
          "base_uri": "https://localhost:8080/"
        },
        "id": "bls88dTvIVRS",
        "outputId": "b7d02bd3-f373-4f4d-ea48-c09f3f19940a"
      },
      "execution_count": 91,
      "outputs": [
        {
          "output_type": "stream",
          "name": "stdout",
          "text": [
            "5.65\n"
          ]
        }
      ]
    },
    {
      "cell_type": "code",
      "source": [
        "#операция умножения / multiplication\n",
        "print (x*2)"
      ],
      "metadata": {
        "colab": {
          "base_uri": "https://localhost:8080/"
        },
        "id": "YDGjezcoIW66",
        "outputId": "90b40089-caaa-4089-96ea-df42a1b966b6"
      },
      "execution_count": 92,
      "outputs": [
        {
          "output_type": "stream",
          "name": "stdout",
          "text": [
            "22.6\n"
          ]
        }
      ]
    },
    {
      "cell_type": "code",
      "source": [
        "#возведение в степень / exponentiation\n",
        "print (x**3)"
      ],
      "metadata": {
        "colab": {
          "base_uri": "https://localhost:8080/"
        },
        "id": "g4gWVWglIYyY",
        "outputId": "076384f4-4d63-4568-9b13-0b40ad8e274a"
      },
      "execution_count": 93,
      "outputs": [
        {
          "output_type": "stream",
          "name": "stdout",
          "text": [
            "1442.8970000000002\n"
          ]
        }
      ]
    },
    {
      "cell_type": "code",
      "source": [
        "#разделить и показать целую часть от деления\n",
        "#Floor division operation (divide and show the integer part of the division)\n",
        "print (x//2)"
      ],
      "metadata": {
        "colab": {
          "base_uri": "https://localhost:8080/"
        },
        "id": "O30pgseIIalT",
        "outputId": "72e4834d-8fad-4360-a117-83d5f1a28454"
      },
      "execution_count": 94,
      "outputs": [
        {
          "output_type": "stream",
          "name": "stdout",
          "text": [
            "5.0\n"
          ]
        }
      ]
    },
    {
      "cell_type": "code",
      "source": [
        "#разделить и показать остаток\n",
        "#Modulo operation (divide and show the remainder)\n",
        "print (x%2)"
      ],
      "metadata": {
        "colab": {
          "base_uri": "https://localhost:8080/"
        },
        "id": "QfC0uZ87Ieip",
        "outputId": "8f8a1ee1-abe6-4ed2-d42c-d82464005622"
      },
      "execution_count": 95,
      "outputs": [
        {
          "output_type": "stream",
          "name": "stdout",
          "text": [
            "1.3000000000000007\n"
          ]
        }
      ]
    },
    {
      "cell_type": "code",
      "source": [
        "print(x)"
      ],
      "metadata": {
        "colab": {
          "base_uri": "https://localhost:8080/"
        },
        "id": "mAI91RiBLFyO",
        "outputId": "0d339bc9-637d-451f-cc5d-ed4b370bf738"
      },
      "execution_count": 96,
      "outputs": [
        {
          "output_type": "stream",
          "name": "stdout",
          "text": [
            "11.3\n"
          ]
        }
      ]
    },
    {
      "cell_type": "code",
      "source": [
        "x=x**10\n",
        "print(x)"
      ],
      "metadata": {
        "colab": {
          "base_uri": "https://localhost:8080/"
        },
        "id": "wgXs_gJrLO88",
        "outputId": "ba2236d5-4f45-4216-877d-da49c55e18d5"
      },
      "execution_count": 97,
      "outputs": [
        {
          "output_type": "stream",
          "name": "stdout",
          "text": [
            "33945673899.22225\n"
          ]
        }
      ]
    },
    {
      "cell_type": "code",
      "source": [
        "a=5\n",
        "b=3.5"
      ],
      "metadata": {
        "id": "5NopLnWQLXE-"
      },
      "execution_count": 98,
      "outputs": []
    },
    {
      "cell_type": "code",
      "source": [
        "# a=a+b\n",
        "a+=b\n",
        "print(a)"
      ],
      "metadata": {
        "colab": {
          "base_uri": "https://localhost:8080/"
        },
        "id": "iTCja_zmLjRd",
        "outputId": "9c2a85cf-1e60-4be3-bd78-9560c61ae09c"
      },
      "execution_count": 99,
      "outputs": [
        {
          "output_type": "stream",
          "name": "stdout",
          "text": [
            "8.5\n"
          ]
        }
      ]
    },
    {
      "cell_type": "code",
      "source": [
        "# a=a-b\n",
        "a-=b\n",
        "print(a)"
      ],
      "metadata": {
        "colab": {
          "base_uri": "https://localhost:8080/"
        },
        "id": "JSiSfxFfLrNq",
        "outputId": "de4b9b94-b824-4c83-ff3c-fbd0f054367d"
      },
      "execution_count": 100,
      "outputs": [
        {
          "output_type": "stream",
          "name": "stdout",
          "text": [
            "5.0\n"
          ]
        }
      ]
    },
    {
      "cell_type": "code",
      "source": [
        "# a=a*b\n",
        "a*=b\n",
        "print(a)"
      ],
      "metadata": {
        "colab": {
          "base_uri": "https://localhost:8080/"
        },
        "id": "MbrE641VLxFl",
        "outputId": "7a1c30a5-9089-4920-afcd-a13a0380fe0b"
      },
      "execution_count": 101,
      "outputs": [
        {
          "output_type": "stream",
          "name": "stdout",
          "text": [
            "17.5\n"
          ]
        }
      ]
    },
    {
      "cell_type": "code",
      "source": [
        "# a=a/b\n",
        "a/=b\n",
        "print(a)"
      ],
      "metadata": {
        "colab": {
          "base_uri": "https://localhost:8080/"
        },
        "id": "WMpqV42iMFgu",
        "outputId": "bbdf3f97-9a62-49ff-eebc-c6b354fdcf75"
      },
      "execution_count": 102,
      "outputs": [
        {
          "output_type": "stream",
          "name": "stdout",
          "text": [
            "5.0\n"
          ]
        }
      ]
    },
    {
      "cell_type": "code",
      "source": [
        "# проверка a>b\n",
        "# check whether a is higher than a\n",
        "a>b"
      ],
      "metadata": {
        "id": "r0dWbh9Shxxl",
        "colab": {
          "base_uri": "https://localhost:8080/"
        },
        "outputId": "d60c3a08-4635-4789-d519-788443241806"
      },
      "execution_count": 103,
      "outputs": [
        {
          "output_type": "execute_result",
          "data": {
            "text/plain": [
              "True"
            ]
          },
          "metadata": {},
          "execution_count": 103
        }
      ]
    },
    {
      "cell_type": "code",
      "source": [
        "# проверка a<b\n",
        "# check whether a is lower than a\n",
        "a<b"
      ],
      "metadata": {
        "colab": {
          "base_uri": "https://localhost:8080/"
        },
        "id": "IVE7ZL-WMX7D",
        "outputId": "116bfd0e-1845-4c0d-b48b-e7de986af902"
      },
      "execution_count": 104,
      "outputs": [
        {
          "output_type": "execute_result",
          "data": {
            "text/plain": [
              "False"
            ]
          },
          "metadata": {},
          "execution_count": 104
        }
      ]
    },
    {
      "cell_type": "code",
      "source": [
        "# проверка a больше или равно b\n",
        "# check whether a is higher or equal than a\n",
        "a>=b"
      ],
      "metadata": {
        "colab": {
          "base_uri": "https://localhost:8080/"
        },
        "id": "RF8KspQZMZ1L",
        "outputId": "13e6f65c-ea80-4413-bf3e-70ab6dbb657a"
      },
      "execution_count": 105,
      "outputs": [
        {
          "output_type": "execute_result",
          "data": {
            "text/plain": [
              "True"
            ]
          },
          "metadata": {},
          "execution_count": 105
        }
      ]
    },
    {
      "cell_type": "code",
      "source": [
        "# проверка a!=b\n",
        "# check whether a does not equal to a\n",
        "a!=b"
      ],
      "metadata": {
        "colab": {
          "base_uri": "https://localhost:8080/"
        },
        "id": "Qg6JCWBJMbCK",
        "outputId": "cab30628-1e91-4144-a7b1-af16ae70b66a"
      },
      "execution_count": 106,
      "outputs": [
        {
          "output_type": "execute_result",
          "data": {
            "text/plain": [
              "True"
            ]
          },
          "metadata": {},
          "execution_count": 106
        }
      ]
    },
    {
      "cell_type": "markdown",
      "source": [
        "# Списки, кортежи, множества и словари (List, tuple, set, dictionary)"
      ],
      "metadata": {
        "id": "1EaRX4K_BgBv"
      }
    },
    {
      "cell_type": "markdown",
      "source": [
        "Тип список. Список - упорядоченный, индексируемый,\n",
        "изменяемый набор данных разного типа"
      ],
      "metadata": {
        "id": "pWcN9vkZj3yE"
      }
    },
    {
      "cell_type": "code",
      "source": [
        "x=[4, 6, 4, 6.4, 'Hello', 9+7j]\n",
        "'''\n",
        "Тип список. Список - упорядоченный, индексируемый,\n",
        "изменяемый набор данных разного типа\n",
        "\n",
        "List type. A list is an ordered,\n",
        "indexed, mutable collection of\n",
        "heterogeneous data.\n",
        "'''\n",
        "type(x)"
      ],
      "metadata": {
        "colab": {
          "base_uri": "https://localhost:8080/"
        },
        "id": "CcDCyTFydnN1",
        "outputId": "fd583f21-e07b-4494-92b4-c4954cb57247"
      },
      "execution_count": 107,
      "outputs": [
        {
          "output_type": "execute_result",
          "data": {
            "text/plain": [
              "list"
            ]
          },
          "metadata": {},
          "execution_count": 107
        }
      ]
    },
    {
      "cell_type": "code",
      "source": [
        "'''\n",
        "обращение к элементу списка\n",
        "номер элемента в списке начинается с нуля\n",
        "\n",
        "Accessing an element in the list.\n",
        "List indexing starts from 0.\n",
        "'''\n",
        "x[0]"
      ],
      "metadata": {
        "colab": {
          "base_uri": "https://localhost:8080/"
        },
        "id": "ZfkvJbHwI1Wq",
        "outputId": "d78e5b63-5bf7-4b2e-9c05-44e0c781cbbb"
      },
      "execution_count": 108,
      "outputs": [
        {
          "output_type": "execute_result",
          "data": {
            "text/plain": [
              "4"
            ]
          },
          "metadata": {},
          "execution_count": 108
        }
      ]
    },
    {
      "cell_type": "code",
      "source": [
        "'''\n",
        "нижняя граница всегда включается,\n",
        "верхняя граница всегда исключается => и <\n",
        "\n",
        "Slicing the list. The lower bound is always\n",
        "included, and the upper bound is always excluded.\n",
        "'''\n",
        "x[1:3]"
      ],
      "metadata": {
        "colab": {
          "base_uri": "https://localhost:8080/"
        },
        "id": "W-IBmTrLI2pc",
        "outputId": "c762954b-17eb-4898-b9f8-865c67d48a92"
      },
      "execution_count": 109,
      "outputs": [
        {
          "output_type": "execute_result",
          "data": {
            "text/plain": [
              "[6, 4]"
            ]
          },
          "metadata": {},
          "execution_count": 109
        }
      ]
    },
    {
      "cell_type": "code",
      "source": [
        "'''\n",
        "вывод до конца списка\n",
        "Slicing from a specific index to the end of the list.\n",
        "'''\n",
        "x[1:]"
      ],
      "metadata": {
        "colab": {
          "base_uri": "https://localhost:8080/"
        },
        "id": "u2D__FlgI4mO",
        "outputId": "52e8e129-0842-4546-b415-2cb5db22d32a"
      },
      "execution_count": 110,
      "outputs": [
        {
          "output_type": "execute_result",
          "data": {
            "text/plain": [
              "[6, 4, 6.4, 'Hello', (9+7j)]"
            ]
          },
          "metadata": {},
          "execution_count": 110
        }
      ]
    },
    {
      "cell_type": "code",
      "source": [
        "'''\n",
        "вывод с конца списка\n",
        "Accessing elements from the end of the list.\n",
        "Negative indices count from the end of the list.\n",
        "'''\n",
        "x[:-2]"
      ],
      "metadata": {
        "colab": {
          "base_uri": "https://localhost:8080/"
        },
        "id": "SryoXetEI5oM",
        "outputId": "c1a54dac-96f1-44e5-cbdb-d40f2d83ef51"
      },
      "execution_count": 111,
      "outputs": [
        {
          "output_type": "execute_result",
          "data": {
            "text/plain": [
              "[4, 6, 4, 6.4]"
            ]
          },
          "metadata": {},
          "execution_count": 111
        }
      ]
    },
    {
      "cell_type": "code",
      "source": [
        "'''\n",
        "[start:stop:step] - начало - конец - шаг.\n",
        "начинаем со второго числа в списке,\n",
        "заканчиваем на шестом элементе,\n",
        "шаг 2 - через одно число в списке\n",
        "\n",
        "Slicing with a step. [start:stop:step] - start, stop, step.\n",
        "Starting from the second element, ending at\n",
        "the sixth element (exclusive), step by 2.\n",
        "'''\n",
        "x[1:6:2]"
      ],
      "metadata": {
        "colab": {
          "base_uri": "https://localhost:8080/"
        },
        "id": "Ds5SLaDGI7zy",
        "outputId": "d36bd952-9148-4463-b3a7-978800d6bc97"
      },
      "execution_count": 112,
      "outputs": [
        {
          "output_type": "execute_result",
          "data": {
            "text/plain": [
              "[6, 6.4, (9+7j)]"
            ]
          },
          "metadata": {},
          "execution_count": 112
        }
      ]
    },
    {
      "cell_type": "code",
      "source": [
        "'''\n",
        "переворот списка\n",
        "Reversing the list\n",
        "'''\n",
        "x[::-1]"
      ],
      "metadata": {
        "colab": {
          "base_uri": "https://localhost:8080/"
        },
        "id": "12vQI7eRI9CY",
        "outputId": "811f8bcb-b59a-46b2-c804-edfe91a331c0"
      },
      "execution_count": 113,
      "outputs": [
        {
          "output_type": "execute_result",
          "data": {
            "text/plain": [
              "[(9+7j), 'Hello', 6.4, 4, 6, 4]"
            ]
          },
          "metadata": {},
          "execution_count": 113
        }
      ]
    },
    {
      "cell_type": "code",
      "source": [
        "'''\n",
        "пример изменения списка\n",
        "Example of changing a list\n",
        "'''\n",
        "x=[1, 2, 3]\n",
        "x[1]=70\n",
        "print(x)"
      ],
      "metadata": {
        "colab": {
          "base_uri": "https://localhost:8080/"
        },
        "id": "8WgAzl2N5HhH",
        "outputId": "af396c62-db5e-4a34-c811-34bfc55e8b52"
      },
      "execution_count": 114,
      "outputs": [
        {
          "output_type": "stream",
          "name": "stdout",
          "text": [
            "[1, 70, 3]\n"
          ]
        }
      ]
    },
    {
      "cell_type": "code",
      "source": [
        "'''\n",
        "кортеж (tuple) - упорядоченный, индексируемый,\n",
        "неизменяемый набор данных разного типа.\n",
        "Отличие от типа - в списке можно\n",
        "изменять элементы, а в кортеже нет\n",
        "\n",
        "Tuple creation. A tuple is an ordered,\n",
        "indexed, immutable collection of heterogeneous data.\n",
        "'''\n",
        "x=(1,4,7,8)\n",
        "type(x)"
      ],
      "metadata": {
        "colab": {
          "base_uri": "https://localhost:8080/"
        },
        "id": "g2ru8l8NI-6j",
        "outputId": "2b6ec94d-5924-45ee-ba69-ec79d5ceacce"
      },
      "execution_count": 115,
      "outputs": [
        {
          "output_type": "execute_result",
          "data": {
            "text/plain": [
              "tuple"
            ]
          },
          "metadata": {},
          "execution_count": 115
        }
      ]
    },
    {
      "cell_type": "code",
      "source": [
        "'''\n",
        "Множество - неупорядоченный, неиндексируемый,\n",
        "но изменяемый набор данных разного типа.\n",
        "\n",
        "A set is a collection which is unordered,\n",
        "unchangeable*, and unindexed.\n",
        "*Note: Set items are unchangeable,\n",
        "but you can remove items and add new items.\n",
        "'''\n",
        "x={1,4,\"Hello\",6, 6, 8}\n",
        "print(x)\n",
        "type(x)"
      ],
      "metadata": {
        "colab": {
          "base_uri": "https://localhost:8080/"
        },
        "id": "PgK33jh4RiVO",
        "outputId": "8e724cbb-61cd-442f-8858-76dcff39078b"
      },
      "execution_count": 116,
      "outputs": [
        {
          "output_type": "stream",
          "name": "stdout",
          "text": [
            "{1, 4, 6, 8, 'Hello'}\n"
          ]
        },
        {
          "output_type": "execute_result",
          "data": {
            "text/plain": [
              "set"
            ]
          },
          "metadata": {},
          "execution_count": 116
        }
      ]
    },
    {
      "cell_type": "code",
      "source": [
        "'''\n",
        "выводит только уникальные значения\n",
        "highlight only unique values\n",
        "'''\n",
        "list(set(x))"
      ],
      "metadata": {
        "colab": {
          "base_uri": "https://localhost:8080/"
        },
        "id": "4QWNYXxfR905",
        "outputId": "d3b3ca8f-fcfd-43a4-cd1c-59de9ac5eeff"
      },
      "execution_count": 117,
      "outputs": [
        {
          "output_type": "execute_result",
          "data": {
            "text/plain": [
              "[1, 4, 6, 8, 'Hello']"
            ]
          },
          "metadata": {},
          "execution_count": 117
        }
      ]
    },
    {
      "cell_type": "code",
      "source": [
        "'''\n",
        "можно превратить множество или кортеж в список и потом с ним работать\n",
        "Converting a set or tuple into a list to perform operations\n",
        "'''\n",
        "x=list(x)\n",
        "type(x)"
      ],
      "metadata": {
        "colab": {
          "base_uri": "https://localhost:8080/"
        },
        "id": "JbFcmbQGRnSd",
        "outputId": "2e2bb235-6421-4aa0-9944-cf39884dbf82"
      },
      "execution_count": 118,
      "outputs": [
        {
          "output_type": "execute_result",
          "data": {
            "text/plain": [
              "list"
            ]
          },
          "metadata": {},
          "execution_count": 118
        }
      ]
    },
    {
      "cell_type": "code",
      "source": [
        "'''\n",
        "Словари - неупорядоченные коллекции\n",
        "произвольных объектов с доступом по ключу.\n",
        "\n",
        "Dictionaries are used to store data values in key:value pairs.\n",
        "\n",
        "A dictionary is a collection which is ordered*,\n",
        "changeable and do not allow duplicates.\n",
        "\n",
        "*As of Python version 3.7, dictionaries are ordered.\n",
        "In Python 3.6 and earlier, dictionaries are unordered.\n",
        "'''\n",
        "x={'Greetings':['Hello', 'Hi','Good morning'],\n",
        "  'hasta la vista': ['Bye', 'Good bye']}\n",
        "print(x)"
      ],
      "metadata": {
        "colab": {
          "base_uri": "https://localhost:8080/"
        },
        "id": "JUCeaxPeSbGH",
        "outputId": "18f95236-12be-43e0-f36a-c288313e0075"
      },
      "execution_count": 119,
      "outputs": [
        {
          "output_type": "stream",
          "name": "stdout",
          "text": [
            "{'Greetings': ['Hello', 'Hi', 'Good morning'], 'hasta la vista': ['Bye', 'Good bye']}\n"
          ]
        }
      ]
    },
    {
      "cell_type": "code",
      "source": [
        "# обращение к элементу словаря\n",
        "# Accessing an element of the dictionary\n",
        "print(x['hasta la vista'] [0])"
      ],
      "metadata": {
        "colab": {
          "base_uri": "https://localhost:8080/"
        },
        "id": "9rkuAkW-ThuS",
        "outputId": "7e86c56c-d6a8-497b-db72-8824f13bc96a"
      },
      "execution_count": 120,
      "outputs": [
        {
          "output_type": "stream",
          "name": "stdout",
          "text": [
            "Bye\n"
          ]
        }
      ]
    },
    {
      "cell_type": "code",
      "source": [
        "# обращение к ключу словаря. выдает привет\n",
        "# Accessing dictionary keys. Outputs 'Greetings'\n",
        "print(list(x.keys()) [0] )"
      ],
      "metadata": {
        "colab": {
          "base_uri": "https://localhost:8080/"
        },
        "id": "eeU-8BAzTi0Z",
        "outputId": "899099ee-a209-4a72-84db-b53b730ff3e3"
      },
      "execution_count": 121,
      "outputs": [
        {
          "output_type": "stream",
          "name": "stdout",
          "text": [
            "Greetings\n"
          ]
        }
      ]
    },
    {
      "cell_type": "code",
      "source": [
        "# обращение к ключу словаря. выдает пока\n",
        "# Accessing dictionary keys. Outputs 'hasta la vista'\n",
        "print(list(x.keys()) [1] )"
      ],
      "metadata": {
        "colab": {
          "base_uri": "https://localhost:8080/"
        },
        "id": "1-GMC628Tjtr",
        "outputId": "73db9fac-366a-42a6-8183-cd758ad0295b"
      },
      "execution_count": 122,
      "outputs": [
        {
          "output_type": "stream",
          "name": "stdout",
          "text": [
            "hasta la vista\n"
          ]
        }
      ]
    },
    {
      "cell_type": "markdown",
      "source": [
        "# Библиотека numpy и массивы"
      ],
      "metadata": {
        "id": "EE3bvzzwPyi1"
      }
    },
    {
      "cell_type": "code",
      "source": [
        "'''\n",
        "#импортируем библиотеку numpy и вводим\n",
        "краткое обозначение названия библиотеки.\n",
        "Обозначение может быть любым,\n",
        "но библиотеку Numpy принято обозначать как np\n",
        "\n",
        "\n",
        "Importing the numpy library and abbreviating its name as np\n",
        "'''\n",
        "import numpy as np\n",
        "\n",
        "'''\n",
        "Представление данных в виде одномерного массива (array).\n",
        "С этим массивом можно производить математические\n",
        "операции как в линейной алгебре.\n",
        "\n",
        "Loading data into a one-dimensional array using numpy array.\n",
        "With these arrays, you can perform mathematical operations as\n",
        "in linear algebra.\n",
        "'''\n",
        "x=np.array([1,2,3,4])\n",
        "type(x)"
      ],
      "metadata": {
        "colab": {
          "base_uri": "https://localhost:8080/"
        },
        "id": "DnIYW1XyP5An",
        "outputId": "420173e3-aa83-494c-b4ed-4a1a205187cc"
      },
      "execution_count": 123,
      "outputs": [
        {
          "output_type": "execute_result",
          "data": {
            "text/plain": [
              "numpy.ndarray"
            ]
          },
          "metadata": {},
          "execution_count": 123
        }
      ]
    },
    {
      "cell_type": "code",
      "source": [
        "y=[4,5,6,7]\n",
        "type(y)"
      ],
      "metadata": {
        "colab": {
          "base_uri": "https://localhost:8080/"
        },
        "id": "EbxKbjMcUgnw",
        "outputId": "f39dfb2d-0438-4528-a481-33779840ffd2"
      },
      "execution_count": 124,
      "outputs": [
        {
          "output_type": "execute_result",
          "data": {
            "text/plain": [
              "list"
            ]
          },
          "metadata": {},
          "execution_count": 124
        }
      ]
    },
    {
      "cell_type": "code",
      "source": [
        "'''\n",
        "Printing the list y multiplied by 3\n",
        "Вывод результата операции: умножить список на 3\n",
        "'''\n",
        "print(y*3)\n",
        "'''\n",
        "Printing the array x multiplied by 2\n",
        "Вывод результата операции умножения одномерного\n",
        "массива (каждого его элемента) на 3\n",
        "'''\n",
        "print(x*2)\n",
        "'''\n",
        "Printing the result of dividing each element in array x by 2\n",
        "Вывод результата операции деления одномерного\n",
        "массива (каждого его элемента) на 2\n",
        "'''\n",
        "print(x/2)\n",
        "'''\n",
        "Printing the result of raising each element in array x to the power of 4\n",
        "Вывод результата операции возведения одномерного\n",
        "массива (каждого его элемента) в четвертую степень\n",
        "'''\n",
        "print(x**4)"
      ],
      "metadata": {
        "colab": {
          "base_uri": "https://localhost:8080/"
        },
        "id": "cj33DvJXUiYW",
        "outputId": "2649a784-d796-4db9-bae5-ff2c541ae8e3"
      },
      "execution_count": 125,
      "outputs": [
        {
          "output_type": "stream",
          "name": "stdout",
          "text": [
            "[4, 5, 6, 7, 4, 5, 6, 7, 4, 5, 6, 7]\n",
            "[2 4 6 8]\n",
            "[0.5 1.  1.5 2. ]\n",
            "[  1  16  81 256]\n"
          ]
        }
      ]
    },
    {
      "cell_type": "code",
      "source": [
        "#обращение к элементам как в списках\n",
        "#accessing items the same as in lists\n",
        "x[1]"
      ],
      "metadata": {
        "colab": {
          "base_uri": "https://localhost:8080/"
        },
        "id": "L-oyhE_44ZcL",
        "outputId": "4a683f79-4eba-4ca0-d71a-ac9b29739659"
      },
      "execution_count": 126,
      "outputs": [
        {
          "output_type": "execute_result",
          "data": {
            "text/plain": [
              "2"
            ]
          },
          "metadata": {},
          "execution_count": 126
        }
      ]
    },
    {
      "cell_type": "code",
      "source": [
        "#двумерный массив, как матрица. табличные данные для анализа\n",
        "#a two-dimensional array, like a matrix. tabular data for analysis\n",
        "x=np.array([[1,2],[3,4]])\n",
        "print(x)\n",
        "#обращение к элементу двумерного массива\n",
        "#accessing an element of a two-dimensional array.\n",
        "x[1,0]"
      ],
      "metadata": {
        "colab": {
          "base_uri": "https://localhost:8080/"
        },
        "id": "vHCIJpclUqOO",
        "outputId": "91d854ad-2b54-48c2-f0d4-8d4a263d49db"
      },
      "execution_count": 127,
      "outputs": [
        {
          "output_type": "stream",
          "name": "stdout",
          "text": [
            "[[1 2]\n",
            " [3 4]]\n"
          ]
        },
        {
          "output_type": "execute_result",
          "data": {
            "text/plain": [
              "3"
            ]
          },
          "metadata": {},
          "execution_count": 127
        }
      ]
    },
    {
      "cell_type": "code",
      "source": [
        "#округление. по умолчанию до целого числа\n",
        "#rounding up. by default, up to an integer\n",
        "print(np.round (5/3))\n",
        "#округлям до n числа знаков после запятой\n",
        "#rounding up to n the number of decimal places\n",
        "print(np.round (5/3, 6))\n",
        "#округление в большую сторону\n",
        "#rounding up\n",
        "print(np.ceil(1/4))\n",
        "#округление в меньшую сторону сторону\n",
        "#rounding down\n",
        "print(np.floor(1/4))"
      ],
      "metadata": {
        "colab": {
          "base_uri": "https://localhost:8080/"
        },
        "id": "C1v4YPle4llO",
        "outputId": "8336d9e2-95d5-49bb-eccd-7327b6b6a2e7"
      },
      "execution_count": 128,
      "outputs": [
        {
          "output_type": "stream",
          "name": "stdout",
          "text": [
            "2.0\n",
            "1.666667\n",
            "1.0\n",
            "0.0\n"
          ]
        }
      ]
    },
    {
      "cell_type": "markdown",
      "source": [
        "#УСЛОВИЯ"
      ],
      "metadata": {
        "id": "IlfJuVYPC-Z1"
      }
    },
    {
      "cell_type": "code",
      "source": [
        "# Генерация случайного числа в диапазоне [0, 100)\n",
        "# Generate a random number between 0 and 1 and store it in the variable z\n",
        "\n",
        "z = (np.random.random())*100\n",
        "# Проверка условия, что число больше 70\n",
        "# Checking the condition that the number is greater than 70\n",
        "if z > 70:\n",
        "    # Вывод сообщения \"Excellent\"\n",
        "    print(\"Excellent\")\n",
        "    # Вывод значения числа, округленного\n",
        "    # до двух знаков после запятой\n",
        "    print(round(z, 2))\n",
        "elif z<=70 and z>50:\n",
        "    print(\"Satisfactory\")\n",
        "    print(round(z, 2))\n",
        "# Во всех остальных случаях,\n",
        "# когда число меньше или равно 50\n",
        "else:\n",
        "  print(\"Not satisfactory\")\n",
        "  print(round(z, 2))"
      ],
      "metadata": {
        "colab": {
          "base_uri": "https://localhost:8080/"
        },
        "id": "9Vo0VRpPEzR7",
        "outputId": "a55ca47e-2e14-4ca3-940d-70ad854893cd"
      },
      "execution_count": 129,
      "outputs": [
        {
          "output_type": "stream",
          "name": "stdout",
          "text": [
            "Excellent\n",
            "99.51\n"
          ]
        }
      ]
    },
    {
      "cell_type": "markdown",
      "source": [
        "#FOR, WHILE, CONTINUE"
      ],
      "metadata": {
        "id": "NHC8H8eILEpu"
      }
    },
    {
      "cell_type": "code",
      "source": [
        "# Создание списка друзей\n",
        "# Create a list of friends\n",
        "friends = ['Joseph', 'Glenn', 'Sally']\n",
        "# Цикл для каждого друга в списке друзей\n",
        "# Loop for each friend in the friends list\n",
        "for friend in friends:\n",
        "    # Вывод имени друга\n",
        "    # Output of a friend's name\n",
        "    print(friend)"
      ],
      "metadata": {
        "colab": {
          "base_uri": "https://localhost:8080/"
        },
        "id": "G1wlkmmVLDhG",
        "outputId": "f9295862-3c7b-4a50-c011-9dee1d8c71db"
      },
      "execution_count": 130,
      "outputs": [
        {
          "output_type": "stream",
          "name": "stdout",
          "text": [
            "Joseph\n",
            "Glenn\n",
            "Sally\n"
          ]
        }
      ]
    },
    {
      "cell_type": "code",
      "source": [
        "# Цикл для каждого друга в списке друзей\n",
        "# Loop for each friend in the friends list\n",
        "for friend in friends:\n",
        "    # Вывод сообщения \"Happy New Year:\" и имени друга\n",
        "    # The output of the message \"Happy New Year:\" and the name of a friend\n",
        "    print('Happy New Year:', friend)\n",
        "    # Вывод сообщения \"Done!\" после каждого друга\n",
        "    # The output of the \"Done!\" message After every friend\n",
        "    print('Done!')"
      ],
      "metadata": {
        "colab": {
          "base_uri": "https://localhost:8080/"
        },
        "id": "nd2W2m88JGNx",
        "outputId": "c8f0be9e-ffb9-488a-ce1e-162651085ab5"
      },
      "execution_count": 131,
      "outputs": [
        {
          "output_type": "stream",
          "name": "stdout",
          "text": [
            "Happy New Year: Joseph\n",
            "Done!\n",
            "Happy New Year: Glenn\n",
            "Done!\n",
            "Happy New Year: Sally\n",
            "Done!\n"
          ]
        }
      ]
    },
    {
      "cell_type": "code",
      "source": [
        "# Задание начального значения переменной num\n",
        "# Setting the initial value of the num variable\n",
        "num = 10\n",
        "# Цикл, выполняющийся до тех пор, пока num меньше 30\n",
        "# A loop that runs until num is less than 30\n",
        "while num < 30:\n",
        "    # Вывод текущего значения num\n",
        "    # Output of the current num value\n",
        "    print(num)\n",
        "    # Увеличение значения num на 5\n",
        "    # Increasing the num value by 5\n",
        "    num = num + 5"
      ],
      "metadata": {
        "colab": {
          "base_uri": "https://localhost:8080/"
        },
        "id": "1YvszOVaNP2C",
        "outputId": "a6a1d551-57ef-4fad-933b-3cb6af51264a"
      },
      "execution_count": 132,
      "outputs": [
        {
          "output_type": "stream",
          "name": "stdout",
          "text": [
            "10\n",
            "15\n",
            "20\n",
            "25\n"
          ]
        }
      ]
    }
  ]
}